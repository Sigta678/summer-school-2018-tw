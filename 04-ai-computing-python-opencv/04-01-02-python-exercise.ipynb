{
 "cells": [
  {
   "cell_type": "markdown",
   "metadata": {},
   "source": [
    "# Check Point! "
   ]
  },
  {
   "cell_type": "markdown",
   "metadata": {},
   "source": [
    "### Let's have some exciting challenge!!!"
   ]
  },
  {
   "cell_type": "markdown",
   "metadata": {},
   "source": [
    "## 1. Use for loop to Print a multiplication table (from 1~9)"
   ]
  },
  {
   "cell_type": "code",
   "execution_count": null,
   "metadata": {},
   "outputs": [],
   "source": [
    "# It should look like this \n",
    "# 1*1=1 1*2=2 . . .\n",
    "# 2*1=2 2*2=4 . . ."
   ]
  },
  {
   "cell_type": "markdown",
   "metadata": {},
   "source": [
    "#### Hint : \n",
    "#### You should use two layer of for loop.\n",
    "#### int(x) can trans x into type 'int'"
   ]
  },
  {
   "cell_type": "code",
   "execution_count": null,
   "metadata": {},
   "outputs": [],
   "source": [
    "#for i in range(1, 9):\n",
    "#    print(i, '*', i, '=', i*i)"
   ]
  },
  {
   "cell_type": "markdown",
   "metadata": {},
   "source": [
    "## 2.Write a Python program to create a 2d array with 1 on the border and 0 inside."
   ]
  },
  {
   "cell_type": "markdown",
   "metadata": {},
   "source": [
    "#### Hint : \n",
    "####        x[:] = all index\n",
    "####        x[m:n] = index from m to n-1\n",
    "####        in 2d array, try x[m:n,] or x[,m:n] ... "
   ]
  },
  {
   "cell_type": "code",
   "execution_count": null,
   "metadata": {},
   "outputs": [],
   "source": [
    "# It should look like this \n",
    "#        1  1  1  1\n",
    "#        1  0  0  1\n",
    "#        1  0  0  1\n",
    "#        1  1  1  1"
   ]
  },
  {
   "cell_type": "markdown",
   "metadata": {},
   "source": [
    "## 3.define a function with input (int) and output like this"
   ]
  },
  {
   "cell_type": "code",
   "execution_count": 38,
   "metadata": {},
   "outputs": [],
   "source": [
    "# input 4\n",
    "# 1 1 1 1\n",
    "# 1 0 0 1\n",
    "# 1 0 0 1\n",
    "# 1 1 1 1\n",
    "#\n",
    "# input 7\n",
    "# 1 1 1 1 1 1 1 \n",
    "# 1 0 0 0 0 0 1\n",
    "# 1 0 1 1 1 0 1\n",
    "# 1 0 1 0 1 0 1\n",
    "# 1 0 1 1 1 0 1\n",
    "# 1 0 0 0 0 0 1\n",
    "# 1 1 1 1 1 1 1"
   ]
  },
  {
   "cell_type": "markdown",
   "metadata": {},
   "source": [
    "#### Hint :  use def to define a function"
   ]
  },
  {
   "cell_type": "code",
   "execution_count": 39,
   "metadata": {},
   "outputs": [],
   "source": [
    "def func(x):\n",
    "    print x\n",
    "#func(3)"
   ]
  },
  {
   "cell_type": "markdown",
   "metadata": {},
   "source": [
    "##  4. Draw z = cos( x^2 + y^2 )"
   ]
  },
  {
   "cell_type": "markdown",
   "metadata": {},
   "source": [
    "####  Hint : We have done draw z = sin(x^2 + y^2)/(x^2 + y^2), just modify the code!"
   ]
  },
  {
   "cell_type": "code",
   "execution_count": 35,
   "metadata": {},
   "outputs": [],
   "source": [
    "#Step:\n",
    "    #1. import numpy & matplotlib.pyplot\n",
    "    #2. meshgrid the x, y\n",
    "    #3. use the result of meshgrid to draw"
   ]
  }
 ],
 "metadata": {
  "kernelspec": {
   "display_name": "Python 2",
   "language": "python",
   "name": "python2"
  },
  "language_info": {
   "codemirror_mode": {
    "name": "ipython",
    "version": 2
   },
   "file_extension": ".py",
   "mimetype": "text/x-python",
   "name": "python",
   "nbconvert_exporter": "python",
   "pygments_lexer": "ipython2",
   "version": "2.7.12"
  }
 },
 "nbformat": 4,
 "nbformat_minor": 2
}
