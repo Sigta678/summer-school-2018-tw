{
 "cells": [
  {
   "cell_type": "markdown",
   "metadata": {
    "colab_type": "text",
    "id": "YGMVDPHqFWPi"
   },
   "source": [
    "# Welcome To The World Of Jupyter\n",
    "\n",
    "<img style=\"float: left;\"  src=\"images/city.png\"  width=\"30%\">"
   ]
  },
  {
   "cell_type": "markdown",
   "metadata": {
    "colab_type": "text",
    "id": "JvB8wutxFWPi"
   },
   "source": [
    "## 04-01. Jupyter Shortcuts And Basic Python"
   ]
  },
  {
   "cell_type": "markdown",
   "metadata": {
    "colab_type": "text",
    "id": "tWZUIvH8MHNE"
   },
   "source": [
    "### Basic Practice\n",
    "\n",
    "#### Learn the basic function you need to know."
   ]
  },
  {
   "cell_type": "markdown",
   "metadata": {
    "colab_type": "text",
    "id": "Lc0W4EqOFWPk"
   },
   "source": [
    "#### 1. Basic Shortcut In Jupyter"
   ]
  },
  {
   "cell_type": "code",
   "execution_count": 0,
   "metadata": {
    "colab": {
     "autoexec": {
      "startup": false,
      "wait_interval": 0
     }
    },
    "colab_type": "code",
    "id": "cL7b4jO7FWPk"
   },
   "outputs": [],
   "source": [
    "#Use arrow button to move up and down"
   ]
  },
  {
   "cell_type": "code",
   "execution_count": 0,
   "metadata": {
    "colab": {
     "autoexec": {
      "startup": false,
      "wait_interval": 0
     }
    },
    "colab_type": "code",
    "id": "wSEKjK0qFWPn",
    "outputId": "50844706-9347-4886-823d-95ee18d19ff2"
   },
   "outputs": [
    {
     "name": "stdout",
     "output_type": "stream",
     "text": [
      "Hello Juypter\n"
     ]
    }
   ],
   "source": [
    "#Use Ctrl+Enter or Shift+Enter at this block to run it.\n",
    "\n",
    "print(\"Hello Juypter\")"
   ]
  },
  {
   "cell_type": "code",
   "execution_count": 0,
   "metadata": {
    "colab": {
     "autoexec": {
      "startup": false,
      "wait_interval": 0
     }
    },
    "colab_type": "code",
    "id": "6l5vG4m4PO6S"
   },
   "outputs": [],
   "source": [
    "#Use dd to delete this block.\n",
    "\n",
    "print(\"Delete Me\")"
   ]
  },
  {
   "cell_type": "code",
   "execution_count": 0,
   "metadata": {
    "colab": {
     "autoexec": {
      "startup": false,
      "wait_interval": 0
     }
    },
    "colab_type": "code",
    "id": "ojepV2wWFWPr"
   },
   "outputs": [],
   "source": [
    "#Use B to create a new block Below.\n",
    "\n",
    "#Then trying to wirte something in it. (like Print function.)"
   ]
  },
  {
   "cell_type": "code",
   "execution_count": 0,
   "metadata": {
    "colab": {
     "autoexec": {
      "startup": false,
      "wait_interval": 0
     }
    },
    "colab_type": "code",
    "id": "ohJFuYt_PO6W",
    "outputId": "633eb51d-7501-45a4-f44b-31d667664097"
   },
   "outputs": [
    {
     "name": "stdout",
     "output_type": "stream",
     "text": [
      "Hello\n"
     ]
    }
   ],
   "source": [
    "print(\"Hello\")"
   ]
  },
  {
   "cell_type": "markdown",
   "metadata": {
    "colab_type": "text",
    "id": "c64Al-ErFWPu"
   },
   "source": [
    "#### 2. Basic Math Calculate & Print"
   ]
  },
  {
   "cell_type": "code",
   "execution_count": 0,
   "metadata": {
    "colab": {
     "autoexec": {
      "startup": false,
      "wait_interval": 0
     }
    },
    "colab_type": "code",
    "id": "1RIzoUvxFWQO"
   },
   "outputs": [],
   "source": [
    "#Remember to import these head file\n",
    "\n",
    "import numpy  as  np\n",
    "import scipy  as  sp\n",
    "import cv2\n",
    "\n",
    "from matplotlib import pyplot as plt\n",
    "plt.rcParams['figure.figsize'] = (10, 10)        # large images\n",
    "plt.rcParams['image.interpolation'] = 'nearest'  # don't interpolate: show square pixels"
   ]
  },
  {
   "cell_type": "code",
   "execution_count": 0,
   "metadata": {
    "colab": {
     "autoexec": {
      "startup": false,
      "wait_interval": 0
     }
    },
    "colab_type": "code",
    "id": "ZxvXXf2MFWPu"
   },
   "outputs": [],
   "source": [
    "#This is how variable work in Python.\n",
    "\n",
    "a = 2\n",
    "\n",
    "b = 3\n",
    "\n",
    "c = a + b\n",
    "\n",
    "print(c)\n",
    "\n",
    "# Compile this block to see waht will happened."
   ]
  },
  {
   "cell_type": "markdown",
   "metadata": {
    "colab_type": "text",
    "id": "PY0OzH69FWPw"
   },
   "source": [
    "#### 3. If Else"
   ]
  },
  {
   "cell_type": "code",
   "execution_count": 0,
   "metadata": {
    "colab": {
     "autoexec": {
      "startup": false,
      "wait_interval": 0
     }
    },
    "colab_type": "code",
    "id": "ncwWV6pXFWPy",
    "outputId": "26793e50-c9fe-4964-a5e8-1994c221e010"
   },
   "outputs": [
    {
     "ename": "NameError",
     "evalue": "name 'a' is not defined",
     "output_type": "error",
     "traceback": [
      "\u001b[0;31m---------------------------------------------------------------------------\u001b[0m",
      "\u001b[0;31mNameError\u001b[0m                                 Traceback (most recent call last)",
      "\u001b[0;32m<ipython-input-1-049574f41e1f>\u001b[0m in \u001b[0;36m<module>\u001b[0;34m()\u001b[0m\n\u001b[1;32m      2\u001b[0m \u001b[0;31m#Below is code I use the variable last block to print out true.\u001b[0m\u001b[0;34m\u001b[0m\u001b[0;34m\u001b[0m\u001b[0m\n\u001b[1;32m      3\u001b[0m \u001b[0;34m\u001b[0m\u001b[0m\n\u001b[0;32m----> 4\u001b[0;31m \u001b[0;32mif\u001b[0m \u001b[0ma\u001b[0m \u001b[0;34m==\u001b[0m \u001b[0;36m2\u001b[0m \u001b[0;34m:\u001b[0m\u001b[0;34m\u001b[0m\u001b[0m\n\u001b[0m\u001b[1;32m      5\u001b[0m     \u001b[0;32mif\u001b[0m \u001b[0mc\u001b[0m \u001b[0;34m==\u001b[0m \u001b[0;36m6\u001b[0m \u001b[0;34m:\u001b[0m             \u001b[0;31m# <- If this line is true,\u001b[0m\u001b[0;34m\u001b[0m\u001b[0m\n\u001b[1;32m      6\u001b[0m         \u001b[0;32mprint\u001b[0m\u001b[0;34m(\u001b[0m\u001b[0;34m\"true\"\u001b[0m\u001b[0;34m)\u001b[0m       \u001b[0;31m# <- do this.\u001b[0m\u001b[0;34m\u001b[0m\u001b[0m\n",
      "\u001b[0;31mNameError\u001b[0m: name 'a' is not defined"
     ]
    }
   ],
   "source": [
    "#This is how \"if\" work in Python. and print out \"true\".\n",
    "#Below is code I use the variable last block to print out true.\n",
    "\n",
    "if a == 2 :\n",
    "    if c == 6 :             # <- If this line is true,         \n",
    "        print(\"true\")       # <- do this. \n",
    "    else :                  # <- Otherwise,\n",
    "        print(\"false\")      # <- do this. \n",
    "\n",
    "# Compile this block to see waht will happened."
   ]
  },
  {
   "cell_type": "markdown",
   "metadata": {
    "colab_type": "text",
    "id": "h0znOCtHFWPz"
   },
   "source": [
    "#### 4. For Loop"
   ]
  },
  {
   "cell_type": "code",
   "execution_count": 0,
   "metadata": {
    "colab": {
     "autoexec": {
      "startup": false,
      "wait_interval": 0
     }
    },
    "colab_type": "code",
    "id": "zAZJxisvFWP0"
   },
   "outputs": [],
   "source": [
    "#This is how \"For\" work in Python.\n",
    "#Below is code how you can print the word \"six\" six time.\n",
    "\n",
    "for i in range(2,4) :     # <- You can asign the range (a,b) by yourself, and it will run from a to b-1 \n",
    "    for j in range(3):    # <- or just make it run from 0 to x-1                \n",
    "        print (\"six\")\n",
    "\n",
    "# Compile this block to see waht will happened.   "
   ]
  },
  {
   "cell_type": "markdown",
   "metadata": {
    "colab_type": "text",
    "id": "wy35et23PO6l"
   },
   "source": [
    "#### 5. Advance Print "
   ]
  },
  {
   "cell_type": "code",
   "execution_count": 0,
   "metadata": {
    "colab": {
     "autoexec": {
      "startup": false,
      "wait_interval": 0
     }
    },
    "colab_type": "code",
    "id": "YfgnZ9MIFWP2",
    "outputId": "2d032bfc-2de3-4bcf-b74b-262ebdf4920e"
   },
   "outputs": [
    {
     "name": "stdout",
     "output_type": "stream",
     "text": [
      "I have 5 apple, 10 banana, and 10 cat.\n"
     ]
    }
   ],
   "source": [
    "#This is how print can do in Python.\n",
    "#(don't change line after you print, and print out variabe with other texts)\n",
    "\n",
    "Apple = 5;\n",
    "Banana = 10;\n",
    "Cat = 10;\n",
    "\n",
    "print(\"I have %d apple,\" %(Apple) ) ,\n",
    "print(\"%d banana, and %d cat.\" %(Banana,Cat) )\n",
    "\n",
    "# Compile this block to see waht will happened. "
   ]
  },
  {
   "cell_type": "markdown",
   "metadata": {
    "colab_type": "text",
    "id": "lmewphzmFWP7"
   },
   "source": [
    "#### 6. 2D Array"
   ]
  },
  {
   "cell_type": "code",
   "execution_count": 0,
   "metadata": {
    "colab": {
     "autoexec": {
      "startup": false,
      "wait_interval": 0
     }
    },
    "colab_type": "code",
    "id": "4dnx0q8NPO6q",
    "outputId": "0029ee6b-39fc-4496-ae80-f7745aa6fb22"
   },
   "outputs": [
    {
     "name": "stdout",
     "output_type": "stream",
     "text": [
      "(3, 3)\n",
      "[[ 1.  1.  1.]\n",
      " [ 1.  1.  1.]\n",
      " [ 1.  1.  1.]]\n",
      "\n",
      "\n",
      "(4, 4)\n",
      "[[ 0.  0.  0.  0.]\n",
      " [ 0.  0.  0.  0.]\n",
      " [ 0.  0.  0.  0.]\n",
      " [ 0.  0.  0.  0.]]\n"
     ]
    }
   ],
   "source": [
    "#This is how matrix work in Python.\n",
    "#(don't change row after print a line, and print out variabe with other texts)\n",
    "\n",
    "x = np.ones([3,3])\n",
    "y = np.zeros([4,4])\n",
    "\n",
    "print(x.shape)\n",
    "print(x)\n",
    "print(\"\\n\")\n",
    "print(y.shape)\n",
    "print(y)\n",
    "\n",
    "# Compile this block to see waht will happened. "
   ]
  },
  {
   "cell_type": "markdown",
   "metadata": {
    "colab_type": "text",
    "id": "8K_C-UfTPO6u"
   },
   "source": [
    "#### 7. Input"
   ]
  },
  {
   "cell_type": "code",
   "execution_count": 0,
   "metadata": {
    "colab": {
     "autoexec": {
      "startup": false,
      "wait_interval": 0
     }
    },
    "colab_type": "code",
    "id": "wrWeNgDdFWQB",
    "outputId": "05a1208d-26e9-4aef-c745-b3ec42e5b5af"
   },
   "outputs": [
    {
     "name": "stdout",
     "output_type": "stream",
     "text": [
      "input:5\n",
      "5\n"
     ]
    }
   ],
   "source": [
    "# This is how you can get input frome the keyboard.\n",
    "\n",
    "temp = input(\"input:\")\n",
    "\n",
    "print(temp)\n",
    "\n",
    "# Compile this block to see waht will happened. "
   ]
  },
  {
   "cell_type": "markdown",
   "metadata": {
    "colab_type": "text",
    "id": "sOPH8cKDFWQA"
   },
   "source": [
    "### Advance Chanllenge\n",
    "\n",
    "#### Now with the knowledge above, trying to finish these task."
   ]
  },
  {
   "cell_type": "markdown",
   "metadata": {
    "colab_type": "text",
    "id": "e7U4UtQePO6z"
   },
   "source": [
    "#### 1. Multiplication Table"
   ]
  },
  {
   "cell_type": "code",
   "execution_count": 0,
   "metadata": {
    "colab": {
     "autoexec": {
      "startup": false,
      "wait_interval": 0
     }
    },
    "colab_type": "code",
    "id": "MH9dIWvGPO6z"
   },
   "outputs": [],
   "source": [
    "#  Now, try to print a multiplication table (from 1~9) with for function\n",
    "\n",
    "#  It should look like this \n",
    "\n",
    "#  1*1=1 1*2=2 ...\n",
    "#  2*1=2 2*2=4 ...\n",
    "#  ..."
   ]
  },
  {
   "cell_type": "code",
   "execution_count": 0,
   "metadata": {
    "colab": {
     "autoexec": {
      "startup": false,
      "wait_interval": 0
     }
    },
    "colab_type": "code",
    "id": "lyarrLPuPO62"
   },
   "outputs": [],
   "source": [
    "# Finish your code here #"
   ]
  },
  {
   "cell_type": "markdown",
   "metadata": {
    "colab_type": "text",
    "id": "J-TfDY5DPO65"
   },
   "source": [
    "#### 2. Matrix"
   ]
  },
  {
   "cell_type": "code",
   "execution_count": 0,
   "metadata": {
    "colab": {
     "autoexec": {
      "startup": false,
      "wait_interval": 0
     }
    },
    "colab_type": "code",
    "id": "hAixWqiuFWP8"
   },
   "outputs": [],
   "source": [
    "#Now, try to create a 2d array with 1 on the border and 0 inside.\n",
    "\n",
    "# It should look like this \n",
    "\n",
    "#        1  1  1  1\n",
    "#        1  0  0  1\n",
    "#        1  0  0  1\n",
    "#        1  1  1  1\n"
   ]
  },
  {
   "cell_type": "code",
   "execution_count": 0,
   "metadata": {
    "colab": {
     "autoexec": {
      "startup": false,
      "wait_interval": 0
     }
    },
    "colab_type": "code",
    "id": "BHFeiwS4FWP9"
   },
   "outputs": [],
   "source": [
    "# Finish your code here #"
   ]
  },
  {
   "cell_type": "markdown",
   "metadata": {
    "colab_type": "text",
    "id": "Y_GZCV_ZFWQA"
   },
   "source": [
    "#### 3.  Matrix With Input"
   ]
  },
  {
   "cell_type": "code",
   "execution_count": 0,
   "metadata": {
    "colab": {
     "autoexec": {
      "startup": false,
      "wait_interval": 0
     }
    },
    "colab_type": "code",
    "id": "SeaInTnaFWQD"
   },
   "outputs": [],
   "source": [
    "#Now, try to combine \"input\", \"array\", \"if\", and \"for\"\n",
    "#to create a 2d array with input (int) and output like this\n",
    "\n",
    "# input 4\n",
    "# 1 1 1 1\n",
    "# 1 0 0 1\n",
    "# 1 0 0 1\n",
    "# 1 1 1 1\n",
    "\n",
    "# input 7\n",
    "# 1 1 1 1 1 1 1 \n",
    "# 1 0 0 0 0 0 1\n",
    "# 1 0 1 1 1 0 1\n",
    "# 1 0 1 0 1 0 1\n",
    "# 1 0 1 1 1 0 1\n",
    "# 1 0 0 0 0 0 1\n",
    "# 1 1 1 1 1 1 1"
   ]
  },
  {
   "cell_type": "code",
   "execution_count": 0,
   "metadata": {
    "colab": {
     "autoexec": {
      "startup": false,
      "wait_interval": 0
     }
    },
    "colab_type": "code",
    "id": "eFS7r-HUFWQG"
   },
   "outputs": [],
   "source": [
    "# Finish your code here #"
   ]
  },
  {
   "cell_type": "markdown",
   "metadata": {},
   "source": [
    "####  4. Draw z = cos( x^2 + y^2 )"
   ]
  },
  {
   "cell_type": "code",
   "execution_count": 1,
   "metadata": {},
   "outputs": [],
   "source": [
    "#Hint : We have done draw z = sin(x^2 + y^2)/(x^2 + y^2), just modify the code!\n",
    "\n",
    "#Step:\n",
    "    #1. import numpy & matplotlib.pyplot\n",
    "    #2. meshgrid the x, y\n",
    "    #3. use the result of meshgrid to draw"
   ]
  }
 ],
 "metadata": {
  "kernelspec": {
   "display_name": "Python 2",
   "language": "python",
   "name": "python2"
  },
  "language_info": {
   "codemirror_mode": {
    "name": "ipython",
    "version": 2
   },
   "file_extension": ".py",
   "mimetype": "text/x-python",
   "name": "python",
   "nbconvert_exporter": "python",
   "pygments_lexer": "ipython2",
   "version": "2.7.12"
  }
 },
 "nbformat": 4,
 "nbformat_minor": 2
}
