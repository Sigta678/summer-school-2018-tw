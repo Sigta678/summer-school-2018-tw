{
 "cells": [
  {
   "cell_type": "markdown",
   "metadata": {
    "colab_type": "text",
    "id": "pziu6sX_M7eb"
   },
   "source": [
    "## 04-03. Face Detect"
   ]
  },
  {
   "cell_type": "markdown",
   "metadata": {
    "colab_type": "text",
    "id": "nAlOe47rS3ij"
   },
   "source": [
    "### Basic Practice\n",
    "\n",
    "### In this section we are going to try out the face detect function.\n",
    "\n",
    "<img style=\"float: left;\"  src=\"images/Result.png\"  width=\"60%\">\n"
   ]
  },
  {
   "cell_type": "markdown",
   "metadata": {
    "colab_type": "text",
    "id": "pbxuIiIUT7Pk"
   },
   "source": [
    "#### 1. Finding The Face"
   ]
  },
  {
   "cell_type": "code",
   "execution_count": 0,
   "metadata": {
    "colab": {
     "autoexec": {
      "startup": false,
      "wait_interval": 0
     }
    },
    "colab_type": "code",
    "id": "Z78k4T0eSXMT"
   },
   "outputs": [],
   "source": [
    "# This is the code in Tutorial show you how to use this function\n",
    "\n",
    "img = cv2.imread('images/face.jpg')\n",
    "vis = cv2.imread('images/face.jpg')\n",
    "\n",
    "faceCascade = cv2.CascadeClassifier('haarcascade_frontalface_default.xml')\n",
    "gray = cv2.cvtColor(img, cv2.COLOR_BGR2GRAY)\n",
    "%time faces = faceCascade.detectMultiScale(gray, scaleFactor=2, minNeighbors=5, minSize=(10, 10), flags = cv2.cv.CV_HAAR_SCALE_IMAGE)\n",
    "\n",
    "# Visualization\n",
    "dst = cv2.cvtColor(img, cv2.COLOR_BGR2RGB)\n",
    "dst1 = cv2.cvtColor(vis, cv2.COLOR_BGR2RGB)\n",
    "for (x, y, w, h) in faces:\n",
    "    cv2.rectangle(dst1, (x, y), (x+w, y+h), (0, 255, 0), 2)\n",
    "\n",
    "\n",
    "plt.subplot(121),plt.imshow(dst, cmap = 'brg')\n",
    "plt.title('Original Image'), plt.xticks([]), plt.yticks([])\n",
    "plt.subplot(122),plt.imshow(dst1, cmap = 'brg')\n",
    "plt.title(\"Found {0} faces!\".format(len(faces))), plt.xticks([]), plt.yticks([])\n",
    "\n",
    "plt.show()"
   ]
  },
  {
   "cell_type": "code",
   "execution_count": 0,
   "metadata": {
    "colab": {
     "autoexec": {
      "startup": false,
      "wait_interval": 0
     }
    },
    "colab_type": "code",
    "id": "ri3ihKP_T5_j"
   },
   "outputs": [],
   "source": [
    "# Now, trying to apply it on the other picture \"street1.jpg\" and \"street2.jpg\"\n",
    "\n",
    "img1 = cv2.imread('images/street1.jpg')\n",
    "img1_resize = cv2.resize( img , (790 , 480) ,interpolation=cv2.INTER_NEAREST)\n",
    "\n",
    "img2 = cv2.imread('images/street2.jpg')\n",
    "img2_resize = cv2.resize( img , (790 , 480) ,interpolation=cv2.INTER_NEAREST)\n",
    "    \n",
    "\n",
    "####### Finish your code down here ######\n",
    "\n",
    "\n",
    "\n",
    "\n",
    "\n",
    "#########################################"
   ]
  },
  {
   "cell_type": "markdown",
   "metadata": {
    "colab_type": "text",
    "id": "UIldVt1oVuo7"
   },
   "source": [
    "#### 2. Apply Into Usage"
   ]
  },
  {
   "cell_type": "code",
   "execution_count": 0,
   "metadata": {
    "colab": {
     "autoexec": {
      "startup": false,
      "wait_interval": 0
     }
    },
    "colab_type": "code",
    "id": "PXW3j3zsV5B7"
   },
   "outputs": [],
   "source": [
    "# For example, we can use the size of the face to detect\n",
    "# the relative distant between people and our car.\n",
    "\n",
    "# Now, try to write a code to determine \n",
    "# which woman in \"street1.jpg\" and \"street2.jpg\" is closer to us.\n",
    "\n",
    "# Hint: What are the meaning of (x, y, w, h) in faces?\n",
    "\n",
    "\n",
    "####### Finish your code down here ######\n",
    "\n",
    "\n",
    "\n",
    "\n",
    "\n",
    "#########################################"
   ]
  },
  {
   "cell_type": "markdown",
   "metadata": {
    "colab_type": "text",
    "id": "Q4Ou4JgBV5Y7"
   },
   "source": [
    "### Bouns Practice"
   ]
  },
  {
   "cell_type": "markdown",
   "metadata": {
    "colab_type": "text",
    "id": "dEgPBJW2XoVT"
   },
   "source": [
    "#### 1. Finding The FaceS"
   ]
  },
  {
   "cell_type": "code",
   "execution_count": 0,
   "metadata": {
    "colab": {
     "autoexec": {
      "startup": false,
      "wait_interval": 0
     }
    },
    "colab_type": "code",
    "id": "flJ9OeUiSZoz"
   },
   "outputs": [],
   "source": [
    "# This is how we can detect more than one face in picture.\n",
    "\n",
    "img = cv2.imread('images/group_1.jpg')\n",
    "vis = cv2.imread('images/group_1.jpg')\n",
    "\n",
    "faceCascade = cv2.CascadeClassifier('haarcascade_frontalface_default.xml')\n",
    "gray = cv2.cvtColor(img, cv2.COLOR_BGR2GRAY)\n",
    "%time faces = faceCascade.detectMultiScale(gray, scaleFactor=1.5, minNeighbors=5, minSize=(10, 10), flags = cv2.cv.CV_HAAR_SCALE_IMAGE)\n",
    "\n",
    "# Visualization\n",
    "dst = cv2.cvtColor(img, cv2.COLOR_BGR2RGB)\n",
    "dst1 = cv2.cvtColor(vis, cv2.COLOR_BGR2RGB)\n",
    "for (x, y, w, h) in faces:\n",
    "    cv2.rectangle(dst1, (x, y), (x+w, y+h), (0, 255, 0), 2)\n",
    "\n",
    "\n",
    "plt.subplot(121),plt.imshow(dst, cmap = 'brg')\n",
    "plt.title('Original Image'), plt.xticks([]), plt.yticks([])\n",
    "plt.subplot(122),plt.imshow(dst1, cmap = 'brg')\n",
    "plt.title(\"Found {0} faces!\".format(len(faces))), plt.xticks([]), plt.yticks([])\n",
    "\n",
    "plt.show()"
   ]
  },
  {
   "cell_type": "code",
   "execution_count": 0,
   "metadata": {
    "colab": {
     "autoexec": {
      "startup": false,
      "wait_interval": 0
     }
    },
    "colab_type": "code",
    "id": "pGpl3ULWSbUD"
   },
   "outputs": [],
   "source": [
    "# You may notice that sometimes it will fail to find out the faces in picture\n",
    "# or tell you there is a face in a empty place.\n",
    "\n",
    "# Now, trying to apply it on the other picture \"street1.jpg\" and \"street2.jpg\"\n",
    "# and answer how many wrong cases appear.\n",
    "\n",
    "img2 = cv2.imread('images/group_2.jpg')\n",
    "img3 = cv2.imread('images/group_3.jpg')\n",
    "\n",
    "dst2 = cv2.cvtColor(img2,cv2.COLOR_BGR2RGB)\n",
    "dst3 = cv2.cvtColor(img3,cv2.COLOR_BGR2RGB)\n",
    "\n",
    "####### Finish your code down here ######\n",
    "\n",
    "\n",
    "\n",
    "\n",
    "\n",
    "#########################################\n"
   ]
  },
  {
   "cell_type": "markdown",
   "metadata": {
    "colab_type": "text",
    "id": "ACZFF3HFYxjs"
   },
   "source": [
    "#### 2. Modify The Parameter"
   ]
  },
  {
   "cell_type": "code",
   "execution_count": 0,
   "metadata": {
    "colab": {
     "autoexec": {
      "startup": false,
      "wait_interval": 0
     }
    },
    "colab_type": "code",
    "id": "HqSL5ebbZQLT"
   },
   "outputs": [],
   "source": [
    "# Can you decrease the number of wrong cases in the previous code?\n",
    "\n",
    "# Hint: \n",
    "#       There are many Parameter in \"detectMultiScale\".\n",
    "#       What are they stand for?"
   ]
  }
 ],
 "metadata": {
  "kernelspec": {
   "display_name": "Python 2",
   "language": "python",
   "name": "python2"
  },
  "language_info": {
   "codemirror_mode": {
    "name": "ipython",
    "version": 2
   },
   "file_extension": ".py",
   "mimetype": "text/x-python",
   "name": "python",
   "nbconvert_exporter": "python",
   "pygments_lexer": "ipython2",
   "version": "2.7.12"
  }
 },
 "nbformat": 4,
 "nbformat_minor": 2
}
